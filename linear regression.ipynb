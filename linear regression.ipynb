{
 "cells": [
  {
   "cell_type": "code",
   "execution_count": 1,
   "metadata": {},
   "outputs": [],
   "source": [
    "import pandas as pd\n",
    "from geopy.geocoders import Nominatim\n",
    "import numpy as np\n",
    "import re\n",
    "import matplotlib.pyplot as plt\n",
    "from matplotlib import style\n",
    "style.use('seaborn-white')\n",
    "from sklearn.model_selection import train_test_split\n",
    "from sklearn.linear_model import LinearRegression\n",
    "from sklearn.metrics import r2_score"
   ]
  },
  {
   "cell_type": "code",
   "execution_count": 2,
   "metadata": {},
   "outputs": [],
   "source": [
    "# put your local path in here\n",
    "df = pd.read_excel(r\"C:\\Users\\ymehr\\Downloads\\ValidData-MitC2022data - SalesPopulation.xlsx\",sheet_name='filtered')"
   ]
  },
  {
   "cell_type": "code",
   "execution_count": 3,
   "metadata": {},
   "outputs": [
    {
     "data": {
      "text/html": [
       "<div>\n",
       "<style scoped>\n",
       "    .dataframe tbody tr th:only-of-type {\n",
       "        vertical-align: middle;\n",
       "    }\n",
       "\n",
       "    .dataframe tbody tr th {\n",
       "        vertical-align: top;\n",
       "    }\n",
       "\n",
       "    .dataframe thead th {\n",
       "        text-align: right;\n",
       "    }\n",
       "</style>\n",
       "<table border=\"1\" class=\"dataframe\">\n",
       "  <thead>\n",
       "    <tr style=\"text-align: right;\">\n",
       "      <th></th>\n",
       "      <th>NBHD</th>\n",
       "      <th>PID</th>\n",
       "      <th>Situs</th>\n",
       "      <th>PrpCls</th>\n",
       "      <th>PrUse</th>\n",
       "      <th>CDU</th>\n",
       "      <th>Qual</th>\n",
       "      <th>YrRD</th>\n",
       "      <th>Remd</th>\n",
       "      <th>Imp</th>\n",
       "      <th>...</th>\n",
       "      <th>Infl2</th>\n",
       "      <th>HSA_Acres</th>\n",
       "      <th>HSALandValue</th>\n",
       "      <th>TotAcres</th>\n",
       "      <th>V/I</th>\n",
       "      <th>Inst#</th>\n",
       "      <th>SaleDate</th>\n",
       "      <th>Price</th>\n",
       "      <th>SaleValidity</th>\n",
       "      <th>Sum801TLA</th>\n",
       "    </tr>\n",
       "  </thead>\n",
       "  <tbody>\n",
       "    <tr>\n",
       "      <th>0</th>\n",
       "      <td>7HST242</td>\n",
       "      <td>09-13-434-003-000</td>\n",
       "      <td>2525   RIDGE RD</td>\n",
       "      <td>R1</td>\n",
       "      <td>1</td>\n",
       "      <td>4.0</td>\n",
       "      <td>6.0</td>\n",
       "      <td>NaN</td>\n",
       "      <td>NaN</td>\n",
       "      <td>R2</td>\n",
       "      <td>...</td>\n",
       "      <td>NaN</td>\n",
       "      <td>NaN</td>\n",
       "      <td>NaN</td>\n",
       "      <td>1.30</td>\n",
       "      <td>I</td>\n",
       "      <td>2016017053</td>\n",
       "      <td>2016-05-05</td>\n",
       "      <td>2122450.0</td>\n",
       "      <td>1</td>\n",
       "      <td>12026</td>\n",
       "    </tr>\n",
       "    <tr>\n",
       "      <th>1</th>\n",
       "      <td>7HSE361</td>\n",
       "      <td>16-11-404-012-000</td>\n",
       "      <td>5330 S 93RD PL</td>\n",
       "      <td>R1</td>\n",
       "      <td>1</td>\n",
       "      <td>4.0</td>\n",
       "      <td>6.0</td>\n",
       "      <td>NaN</td>\n",
       "      <td>NaN</td>\n",
       "      <td>RA</td>\n",
       "      <td>...</td>\n",
       "      <td>9.0</td>\n",
       "      <td>NaN</td>\n",
       "      <td>NaN</td>\n",
       "      <td>0.78</td>\n",
       "      <td>I</td>\n",
       "      <td>2022024921</td>\n",
       "      <td>2022-06-02</td>\n",
       "      <td>1950000.0</td>\n",
       "      <td>1</td>\n",
       "      <td>11047</td>\n",
       "    </tr>\n",
       "    <tr>\n",
       "      <th>2</th>\n",
       "      <td>7HSE361</td>\n",
       "      <td>16-11-404-013-000</td>\n",
       "      <td>5410 S 93RD PL</td>\n",
       "      <td>R1</td>\n",
       "      <td>1</td>\n",
       "      <td>4.0</td>\n",
       "      <td>5.0</td>\n",
       "      <td>NaN</td>\n",
       "      <td>NaN</td>\n",
       "      <td>RA</td>\n",
       "      <td>...</td>\n",
       "      <td>NaN</td>\n",
       "      <td>NaN</td>\n",
       "      <td>NaN</td>\n",
       "      <td>0.73</td>\n",
       "      <td>I</td>\n",
       "      <td>2021068025</td>\n",
       "      <td>2021-11-11</td>\n",
       "      <td>1875000.0</td>\n",
       "      <td>1</td>\n",
       "      <td>8816</td>\n",
       "    </tr>\n",
       "    <tr>\n",
       "      <th>3</th>\n",
       "      <td>7AEA310</td>\n",
       "      <td>23-31-416-001-000</td>\n",
       "      <td>11737   SEABISCUIT LN</td>\n",
       "      <td>R1</td>\n",
       "      <td>12</td>\n",
       "      <td>4.0</td>\n",
       "      <td>5.0</td>\n",
       "      <td>NaN</td>\n",
       "      <td>NaN</td>\n",
       "      <td>RA</td>\n",
       "      <td>...</td>\n",
       "      <td>NaN</td>\n",
       "      <td>2.03</td>\n",
       "      <td>1933-05-06 00:00:00</td>\n",
       "      <td>3.03</td>\n",
       "      <td>I</td>\n",
       "      <td>2022028838</td>\n",
       "      <td>2022-06-25</td>\n",
       "      <td>1850000.0</td>\n",
       "      <td>1</td>\n",
       "      <td>6935</td>\n",
       "    </tr>\n",
       "    <tr>\n",
       "      <th>4</th>\n",
       "      <td>7HST242</td>\n",
       "      <td>09-13-402-005-000</td>\n",
       "      <td>2421   RIDGE RD</td>\n",
       "      <td>R1</td>\n",
       "      <td>1</td>\n",
       "      <td>5.0</td>\n",
       "      <td>5.0</td>\n",
       "      <td>2022.0</td>\n",
       "      <td>6.0</td>\n",
       "      <td>RA</td>\n",
       "      <td>...</td>\n",
       "      <td>NaN</td>\n",
       "      <td>NaN</td>\n",
       "      <td>NaN</td>\n",
       "      <td>0.58</td>\n",
       "      <td>I</td>\n",
       "      <td>2022024045</td>\n",
       "      <td>2022-06-01</td>\n",
       "      <td>1800000.0</td>\n",
       "      <td>1</td>\n",
       "      <td>9936</td>\n",
       "    </tr>\n",
       "  </tbody>\n",
       "</table>\n",
       "<p>5 rows × 35 columns</p>\n",
       "</div>"
      ],
      "text/plain": [
       "      NBHD                PID                    Situs PrpCls  PrUse  CDU  \\\n",
       "0  7HST242  09-13-434-003-000        2525   RIDGE RD       R1      1  4.0   \n",
       "1  7HSE361  16-11-404-012-000         5330 S 93RD PL       R1      1  4.0   \n",
       "2  7HSE361  16-11-404-013-000         5410 S 93RD PL       R1      1  4.0   \n",
       "3  7AEA310  23-31-416-001-000  11737   SEABISCUIT LN       R1     12  4.0   \n",
       "4  7HST242  09-13-402-005-000        2421   RIDGE RD       R1      1  5.0   \n",
       "\n",
       "   Qual    YrRD  Remd Imp  ...  Infl2  HSA_Acres         HSALandValue  \\\n",
       "0   6.0     NaN   NaN  R2  ...    NaN        NaN                  NaN   \n",
       "1   6.0     NaN   NaN  RA  ...    9.0        NaN                  NaN   \n",
       "2   5.0     NaN   NaN  RA  ...    NaN        NaN                  NaN   \n",
       "3   5.0     NaN   NaN  RA  ...    NaN       2.03  1933-05-06 00:00:00   \n",
       "4   5.0  2022.0   6.0  RA  ...    NaN        NaN                  NaN   \n",
       "\n",
       "   TotAcres  V/I       Inst#   SaleDate      Price  SaleValidity  Sum801TLA  \n",
       "0      1.30    I  2016017053 2016-05-05  2122450.0             1      12026  \n",
       "1      0.78    I  2022024921 2022-06-02  1950000.0             1      11047  \n",
       "2      0.73    I  2021068025 2021-11-11  1875000.0             1       8816  \n",
       "3      3.03    I  2022028838 2022-06-25  1850000.0             1       6935  \n",
       "4      0.58    I  2022024045 2022-06-01  1800000.0             1       9936  \n",
       "\n",
       "[5 rows x 35 columns]"
      ]
     },
     "execution_count": 3,
     "metadata": {},
     "output_type": "execute_result"
    }
   ],
   "source": [
    "df.head()"
   ]
  },
  {
   "cell_type": "code",
   "execution_count": 4,
   "metadata": {},
   "outputs": [
    {
     "data": {
      "text/plain": [
       "Index(['NBHD', 'PID', 'Situs', 'PrpCls', 'PrUse', 'CDU', 'Qual', 'YrRD',\n",
       "       'Remd', 'Imp', 'TLA', 'YrBlt', 'GarCap', 'Bedrm', 'FND', '801Units',\n",
       "       '802Units', '803Units', 'FP', 'FixCt', 'Pool', 'LandType', 'Acres',\n",
       "       'LandValue', 'Infl1', 'Infl2', 'HSA_Acres', 'HSALandValue', 'TotAcres',\n",
       "       'V/I', 'Inst#', 'SaleDate', 'Price', 'SaleValidity', 'Sum801TLA'],\n",
       "      dtype='object')"
      ]
     },
     "execution_count": 4,
     "metadata": {},
     "output_type": "execute_result"
    }
   ],
   "source": [
    "df.columns"
   ]
  },
  {
   "cell_type": "code",
   "execution_count": 5,
   "metadata": {},
   "outputs": [
    {
     "data": {
      "text/plain": [
       "0   2016-05-05\n",
       "1   2022-06-02\n",
       "2   2021-11-11\n",
       "3   2022-06-25\n",
       "4   2022-06-01\n",
       "Name: SaleDate, dtype: datetime64[ns]"
      ]
     },
     "execution_count": 5,
     "metadata": {},
     "output_type": "execute_result"
    }
   ],
   "source": [
    "df['SaleDate'].head()"
   ]
  },
  {
   "cell_type": "code",
   "execution_count": 6,
   "metadata": {},
   "outputs": [],
   "source": [
    "df['Raw Year'] = df['SaleDate'].apply(lambda x:x.year)"
   ]
  },
  {
   "cell_type": "code",
   "execution_count": 7,
   "metadata": {},
   "outputs": [
    {
     "data": {
      "text/plain": [
       "Index(['NBHD', 'PID', 'Situs', 'PrpCls', 'PrUse', 'CDU', 'Qual', 'YrRD',\n",
       "       'Remd', 'Imp', 'TLA', 'YrBlt', 'GarCap', 'Bedrm', 'FND', '801Units',\n",
       "       '802Units', '803Units', 'FP', 'FixCt', 'Pool', 'LandType', 'Acres',\n",
       "       'LandValue', 'Infl1', 'Infl2', 'HSA_Acres', 'HSALandValue', 'TotAcres',\n",
       "       'V/I', 'Inst#', 'SaleDate', 'Price', 'SaleValidity', 'Sum801TLA',\n",
       "       'Raw Year'],\n",
       "      dtype='object')"
      ]
     },
     "execution_count": 7,
     "metadata": {},
     "output_type": "execute_result"
    }
   ],
   "source": [
    "df.columns"
   ]
  },
  {
   "cell_type": "code",
   "execution_count": 15,
   "metadata": {},
   "outputs": [],
   "source": [
    "min_year = min(df['Raw Year'])\n",
    "df['Relative year'] = df['Raw Year'].apply(lambda x:x-min_year)\n",
    "df.to_excel('valid_data_with_year.xlsx')"
   ]
  },
  {
   "cell_type": "code",
   "execution_count": 63,
   "metadata": {},
   "outputs": [],
   "source": [
    "geolocator = Nominatim(user_agent=\"geoapiExercises\")\n",
    "pattern = re.compile(r'\\d{5,}')"
   ]
  },
  {
   "cell_type": "code",
   "execution_count": 64,
   "metadata": {},
   "outputs": [],
   "source": [
    "df['Modified Address'] = df['Situs'].apply(lambda x:x + 'Lancaster County, Nebraska, United States')"
   ]
  },
  {
   "cell_type": "code",
   "execution_count": 165,
   "metadata": {},
   "outputs": [],
   "source": [
    "def get_zipcodes(address):\n",
    "    try:\n",
    "        location = geolocator.geocode(address,timeout=100000)\n",
    "        zip = re.search(pattern, location.raw['display_name']).group()\n",
    "        return zip\n",
    "    except:\n",
    "        return np.nan\n",
    "\n",
    "temp = df['Modified Address'].apply(get_zipcodes)"
   ]
  },
  {
   "cell_type": "code",
   "execution_count": null,
   "metadata": {},
   "outputs": [],
   "source": [
    "df['Zipcode'] = temp\n",
    "df.to_excel('data with zipcode.xlsx')"
   ]
  },
  {
   "cell_type": "code",
   "execution_count": null,
   "metadata": {},
   "outputs": [],
   "source": [
    "len(temp.dropna())"
   ]
  },
  {
   "cell_type": "code",
   "execution_count": null,
   "metadata": {},
   "outputs": [],
   "source": [
    "df['Zip Code'] = temp"
   ]
  },
  {
   "cell_type": "code",
   "execution_count": 4,
   "metadata": {},
   "outputs": [
    {
     "data": {
      "text/plain": [
       "PrUse           0.195567\n",
       "CDU             0.120910\n",
       "Qual            0.575430\n",
       "YrRD           -0.005322\n",
       "Remd            0.020230\n",
       "TLA             0.689752\n",
       "YrBlt           0.476923\n",
       "GarCap          0.597921\n",
       "Bedrm           0.167392\n",
       "FND             0.349925\n",
       "801Units        0.728121\n",
       "802Units        0.185000\n",
       "803Units        0.689107\n",
       "FP              0.309291\n",
       "FixCt           0.727844\n",
       "Pool            0.398349\n",
       "Acres           0.032477\n",
       "LandValue       0.798683\n",
       "Infl1           0.005623\n",
       "Infl2           0.131819\n",
       "HSA_Acres       0.061069\n",
       "TotAcres        0.263807\n",
       "Inst#           0.265492\n",
       "Price           1.000000\n",
       "SaleValidity   -0.000904\n",
       "Sum801TLA       0.786005\n",
       "Name: Price, dtype: float64"
      ]
     },
     "execution_count": 4,
     "metadata": {},
     "output_type": "execute_result"
    }
   ],
   "source": [
    "df.corr()['Price']"
   ]
  },
  {
   "cell_type": "code",
   "execution_count": 7,
   "metadata": {},
   "outputs": [
    {
     "name": "stdout",
     "output_type": "stream",
     "text": [
      "<class 'pandas.core.frame.DataFrame'>\n",
      "RangeIndex: 34125 entries, 0 to 34124\n",
      "Data columns (total 35 columns):\n",
      " #   Column        Non-Null Count  Dtype         \n",
      "---  ------        --------------  -----         \n",
      " 0   NBHD          34125 non-null  object        \n",
      " 1   PID           34125 non-null  object        \n",
      " 2   Situs         34125 non-null  object        \n",
      " 3   PrpCls        34125 non-null  object        \n",
      " 4   PrUse         34125 non-null  int64         \n",
      " 5   CDU           34116 non-null  float64       \n",
      " 6   Qual          34116 non-null  float64       \n",
      " 7   YrRD          3698 non-null   float64       \n",
      " 8   Remd          3790 non-null   float64       \n",
      " 9   Imp           34116 non-null  object        \n",
      " 10  TLA           34123 non-null  float64       \n",
      " 11  YrBlt         34116 non-null  float64       \n",
      " 12  GarCap        31197 non-null  float64       \n",
      " 13  Bedrm         34115 non-null  float64       \n",
      " 14  FND           34111 non-null  float64       \n",
      " 15  801Units      29842 non-null  float64       \n",
      " 16  802Units      3786 non-null   float64       \n",
      " 17  803Units      22494 non-null  float64       \n",
      " 18  FP            14955 non-null  float64       \n",
      " 19  FixCt         34118 non-null  float64       \n",
      " 20  Pool          304 non-null    float64       \n",
      " 21  LandType      34125 non-null  object        \n",
      " 22  Acres         1176 non-null   float64       \n",
      " 23  LandValue     34125 non-null  int64         \n",
      " 24  Infl1         9439 non-null   float64       \n",
      " 25  Infl2         2271 non-null   float64       \n",
      " 26  HSA_Acres     928 non-null    float64       \n",
      " 27  HSALandValue  927 non-null    object        \n",
      " 28  TotAcres      33395 non-null  float64       \n",
      " 29  V/I           34120 non-null  object        \n",
      " 30  Inst#         34125 non-null  int64         \n",
      " 31  SaleDate      34125 non-null  datetime64[ns]\n",
      " 32  Price         34125 non-null  float64       \n",
      " 33  SaleValidity  34125 non-null  int64         \n",
      " 34  Sum801TLA     34125 non-null  int64         \n",
      "dtypes: datetime64[ns](1), float64(21), int64(5), object(8)\n",
      "memory usage: 9.1+ MB\n",
      "None\n"
     ]
    }
   ],
   "source": [
    "print(df.info())"
   ]
  },
  {
   "cell_type": "code",
   "execution_count": 6,
   "metadata": {},
   "outputs": [],
   "source": [
    "useful_df = df[['Sum801TLA','LandValue','Qual','FixCt','GarCap','TLA','FND','Price']]"
   ]
  },
  {
   "cell_type": "code",
   "execution_count": 8,
   "metadata": {},
   "outputs": [
    {
     "data": {
      "text/html": [
       "<div>\n",
       "<style scoped>\n",
       "    .dataframe tbody tr th:only-of-type {\n",
       "        vertical-align: middle;\n",
       "    }\n",
       "\n",
       "    .dataframe tbody tr th {\n",
       "        vertical-align: top;\n",
       "    }\n",
       "\n",
       "    .dataframe thead th {\n",
       "        text-align: right;\n",
       "    }\n",
       "</style>\n",
       "<table border=\"1\" class=\"dataframe\">\n",
       "  <thead>\n",
       "    <tr style=\"text-align: right;\">\n",
       "      <th></th>\n",
       "      <th>Sum801TLA</th>\n",
       "      <th>LandValue</th>\n",
       "      <th>Qual</th>\n",
       "      <th>FixCt</th>\n",
       "      <th>GarCap</th>\n",
       "      <th>TLA</th>\n",
       "      <th>FND</th>\n",
       "      <th>Price</th>\n",
       "    </tr>\n",
       "  </thead>\n",
       "  <tbody>\n",
       "    <tr>\n",
       "      <th>0</th>\n",
       "      <td>12026</td>\n",
       "      <td>343850</td>\n",
       "      <td>6.0</td>\n",
       "      <td>25.0</td>\n",
       "      <td>4.0</td>\n",
       "      <td>7391.0</td>\n",
       "      <td>6.0</td>\n",
       "      <td>2122450.0</td>\n",
       "    </tr>\n",
       "    <tr>\n",
       "      <th>1</th>\n",
       "      <td>11047</td>\n",
       "      <td>187800</td>\n",
       "      <td>6.0</td>\n",
       "      <td>30.0</td>\n",
       "      <td>5.0</td>\n",
       "      <td>6590.0</td>\n",
       "      <td>6.0</td>\n",
       "      <td>1950000.0</td>\n",
       "    </tr>\n",
       "    <tr>\n",
       "      <th>2</th>\n",
       "      <td>8816</td>\n",
       "      <td>144000</td>\n",
       "      <td>5.0</td>\n",
       "      <td>26.0</td>\n",
       "      <td>4.0</td>\n",
       "      <td>4045.0</td>\n",
       "      <td>6.0</td>\n",
       "      <td>1875000.0</td>\n",
       "    </tr>\n",
       "    <tr>\n",
       "      <th>3</th>\n",
       "      <td>6935</td>\n",
       "      <td>175000</td>\n",
       "      <td>5.0</td>\n",
       "      <td>23.0</td>\n",
       "      <td>4.0</td>\n",
       "      <td>4174.0</td>\n",
       "      <td>6.0</td>\n",
       "      <td>1850000.0</td>\n",
       "    </tr>\n",
       "    <tr>\n",
       "      <th>4</th>\n",
       "      <td>9936</td>\n",
       "      <td>264500</td>\n",
       "      <td>5.0</td>\n",
       "      <td>25.0</td>\n",
       "      <td>4.0</td>\n",
       "      <td>6186.0</td>\n",
       "      <td>6.0</td>\n",
       "      <td>1800000.0</td>\n",
       "    </tr>\n",
       "    <tr>\n",
       "      <th>...</th>\n",
       "      <td>...</td>\n",
       "      <td>...</td>\n",
       "      <td>...</td>\n",
       "      <td>...</td>\n",
       "      <td>...</td>\n",
       "      <td>...</td>\n",
       "      <td>...</td>\n",
       "      <td>...</td>\n",
       "    </tr>\n",
       "    <tr>\n",
       "      <th>34120</th>\n",
       "      <td>2778</td>\n",
       "      <td>27000</td>\n",
       "      <td>2.0</td>\n",
       "      <td>14.0</td>\n",
       "      <td>NaN</td>\n",
       "      <td>1478.0</td>\n",
       "      <td>4.0</td>\n",
       "      <td>27500.0</td>\n",
       "    </tr>\n",
       "    <tr>\n",
       "      <th>34121</th>\n",
       "      <td>2794</td>\n",
       "      <td>36000</td>\n",
       "      <td>3.0</td>\n",
       "      <td>9.0</td>\n",
       "      <td>NaN</td>\n",
       "      <td>1898.0</td>\n",
       "      <td>4.0</td>\n",
       "      <td>21000.0</td>\n",
       "    </tr>\n",
       "    <tr>\n",
       "      <th>34122</th>\n",
       "      <td>371</td>\n",
       "      <td>14000</td>\n",
       "      <td>2.0</td>\n",
       "      <td>5.0</td>\n",
       "      <td>NaN</td>\n",
       "      <td>371.0</td>\n",
       "      <td>1.0</td>\n",
       "      <td>21000.0</td>\n",
       "    </tr>\n",
       "    <tr>\n",
       "      <th>34123</th>\n",
       "      <td>1540</td>\n",
       "      <td>45000</td>\n",
       "      <td>3.0</td>\n",
       "      <td>8.0</td>\n",
       "      <td>2.0</td>\n",
       "      <td>1108.0</td>\n",
       "      <td>5.0</td>\n",
       "      <td>0.0</td>\n",
       "    </tr>\n",
       "    <tr>\n",
       "      <th>34124</th>\n",
       "      <td>2970</td>\n",
       "      <td>45000</td>\n",
       "      <td>3.0</td>\n",
       "      <td>11.0</td>\n",
       "      <td>2.0</td>\n",
       "      <td>1980.0</td>\n",
       "      <td>7.0</td>\n",
       "      <td>0.0</td>\n",
       "    </tr>\n",
       "  </tbody>\n",
       "</table>\n",
       "<p>34125 rows × 8 columns</p>\n",
       "</div>"
      ],
      "text/plain": [
       "       Sum801TLA  LandValue  Qual  FixCt  GarCap     TLA  FND      Price\n",
       "0          12026     343850   6.0   25.0     4.0  7391.0  6.0  2122450.0\n",
       "1          11047     187800   6.0   30.0     5.0  6590.0  6.0  1950000.0\n",
       "2           8816     144000   5.0   26.0     4.0  4045.0  6.0  1875000.0\n",
       "3           6935     175000   5.0   23.0     4.0  4174.0  6.0  1850000.0\n",
       "4           9936     264500   5.0   25.0     4.0  6186.0  6.0  1800000.0\n",
       "...          ...        ...   ...    ...     ...     ...  ...        ...\n",
       "34120       2778      27000   2.0   14.0     NaN  1478.0  4.0    27500.0\n",
       "34121       2794      36000   3.0    9.0     NaN  1898.0  4.0    21000.0\n",
       "34122        371      14000   2.0    5.0     NaN   371.0  1.0    21000.0\n",
       "34123       1540      45000   3.0    8.0     2.0  1108.0  5.0        0.0\n",
       "34124       2970      45000   3.0   11.0     2.0  1980.0  7.0        0.0\n",
       "\n",
       "[34125 rows x 8 columns]"
      ]
     },
     "execution_count": 8,
     "metadata": {},
     "output_type": "execute_result"
    }
   ],
   "source": [
    "useful_df"
   ]
  },
  {
   "cell_type": "code",
   "execution_count": 9,
   "metadata": {},
   "outputs": [
    {
     "name": "stderr",
     "output_type": "stream",
     "text": [
      "<ipython-input-9-864e3b5e881f>:1: SettingWithCopyWarning: \n",
      "A value is trying to be set on a copy of a slice from a DataFrame\n",
      "\n",
      "See the caveats in the documentation: https://pandas.pydata.org/pandas-docs/stable/user_guide/indexing.html#returning-a-view-versus-a-copy\n",
      "  useful_df.dropna(how='any',inplace=True)\n"
     ]
    }
   ],
   "source": [
    "useful_df.dropna(how='any',inplace=True)"
   ]
  },
  {
   "cell_type": "code",
   "execution_count": 10,
   "metadata": {},
   "outputs": [
    {
     "name": "stdout",
     "output_type": "stream",
     "text": [
      "<class 'pandas.core.frame.DataFrame'>\n",
      "Int64Index: 31196 entries, 0 to 34124\n",
      "Data columns (total 8 columns):\n",
      " #   Column     Non-Null Count  Dtype  \n",
      "---  ------     --------------  -----  \n",
      " 0   Sum801TLA  31196 non-null  int64  \n",
      " 1   LandValue  31196 non-null  int64  \n",
      " 2   Qual       31196 non-null  float64\n",
      " 3   FixCt      31196 non-null  float64\n",
      " 4   GarCap     31196 non-null  float64\n",
      " 5   TLA        31196 non-null  float64\n",
      " 6   FND        31196 non-null  float64\n",
      " 7   Price      31196 non-null  float64\n",
      "dtypes: float64(6), int64(2)\n",
      "memory usage: 2.1 MB\n"
     ]
    }
   ],
   "source": [
    "useful_df.info()"
   ]
  },
  {
   "cell_type": "code",
   "execution_count": 11,
   "metadata": {},
   "outputs": [],
   "source": [
    "X = useful_df[useful_df.columns[:-1]]\n",
    "Y = useful_df[useful_df.columns[-1]]\n",
    "# Y = np.reshape(list(Y),(-1,1))\n",
    "x_train,x_test,y_train,y_test = train_test_split(X,Y,test_size =0.2)"
   ]
  },
  {
   "cell_type": "code",
   "execution_count": 12,
   "metadata": {},
   "outputs": [
    {
     "data": {
      "text/plain": [
       "(24956,)"
      ]
     },
     "execution_count": 12,
     "metadata": {},
     "output_type": "execute_result"
    }
   ],
   "source": [
    "y_train.shape"
   ]
  },
  {
   "cell_type": "code",
   "execution_count": 13,
   "metadata": {},
   "outputs": [],
   "source": [
    "model = LinearRegression().fit(x_train,y_train)\n",
    "predictions = model.predict(x_test)"
   ]
  },
  {
   "cell_type": "code",
   "execution_count": 14,
   "metadata": {},
   "outputs": [
    {
     "name": "stderr",
     "output_type": "stream",
     "text": [
      "<ipython-input-14-2e634147cba2>:2: RuntimeWarning: divide by zero encountered in double_scalars\n",
      "  ratios = [predictions[i]/y_test[i] for i in range(len(predictions))]\n"
     ]
    }
   ],
   "source": [
    "y_test = list(y_test)\n",
    "ratios = [predictions[i]/y_test[i] for i in range(len(predictions))]\n",
    "ratios = list(filter(lambda x:x!=float('inf'),ratios))"
   ]
  },
  {
   "cell_type": "code",
   "execution_count": 15,
   "metadata": {},
   "outputs": [
    {
     "data": {
      "text/plain": [
       "1.0313361829198129"
      ]
     },
     "execution_count": 15,
     "metadata": {},
     "output_type": "execute_result"
    }
   ],
   "source": [
    "np.mean(ratios)"
   ]
  },
  {
   "cell_type": "code",
   "execution_count": 16,
   "metadata": {},
   "outputs": [
    {
     "data": {
      "image/png": "[encoded data removed]",
      "text/plain": [
       "<Figure size 1080x576 with 1 Axes>"
      ]
     },
     "metadata": {},
     "output_type": "display_data"
    }
   ],
   "source": [
    "plt.figure(figsize=(15,8))\n",
    "plt.hist(ratios,bins=20,edgecolor='black',label=f'std = {np.std(ratios)}')\n",
    "plt.xlabel('ratio')\n",
    "plt.ylabel('frequency')\n",
    "plt.legend()\n",
    "# plt.savefig('distribution')\n",
    "plt.show()"
   ]
  },
  {
   "cell_type": "code",
   "execution_count": 17,
   "metadata": {},
   "outputs": [
    {
     "data": {
      "image/png": "[encoded data removed]",
      "text/plain": [
       "<Figure size 1080x576 with 1 Axes>"
      ]
     },
     "metadata": {},
     "output_type": "display_data"
    }
   ],
   "source": [
    "plt.figure(figsize=(15,8))\n",
    "plt.scatter(range(len(ratios))[:1500],ratios[:1500],label=f'mean = {np.mean(ratios)}')\n",
    "plt.xlabel('house index')\n",
    "plt.ylabel('ratio')\n",
    "plt.legend()\n",
    "# plt.savefig('ratio plot')\n",
    "plt.show()"
   ]
  },
  {
   "cell_type": "code",
   "execution_count": 18,
   "metadata": {},
   "outputs": [
    {
     "data": {
      "text/plain": [
       "0.7730028735605202"
      ]
     },
     "execution_count": 18,
     "metadata": {},
     "output_type": "execute_result"
    }
   ],
   "source": [
    "r2_score(y_test,predictions)"
   ]
  },
  {
   "cell_type": "code",
   "execution_count": 16,
   "metadata": {},
   "outputs": [
    {
     "data": {
      "text/html": [
       "<div>\n",
       "<style scoped>\n",
       "    .dataframe tbody tr th:only-of-type {\n",
       "        vertical-align: middle;\n",
       "    }\n",
       "\n",
       "    .dataframe tbody tr th {\n",
       "        vertical-align: top;\n",
       "    }\n",
       "\n",
       "    .dataframe thead th {\n",
       "        text-align: right;\n",
       "    }\n",
       "</style>\n",
       "<table border=\"1\" class=\"dataframe\">\n",
       "  <thead>\n",
       "    <tr style=\"text-align: right;\">\n",
       "      <th></th>\n",
       "      <th>Unnamed: 0</th>\n",
       "      <th>NBHD</th>\n",
       "      <th>PID</th>\n",
       "      <th>Situs</th>\n",
       "      <th>PrpCls</th>\n",
       "      <th>PrUse</th>\n",
       "      <th>CDU</th>\n",
       "      <th>Qual</th>\n",
       "      <th>YrRD</th>\n",
       "      <th>Remd</th>\n",
       "      <th>...</th>\n",
       "      <th>HSALandValue</th>\n",
       "      <th>TotAcres</th>\n",
       "      <th>V/I</th>\n",
       "      <th>Inst#</th>\n",
       "      <th>SaleDate</th>\n",
       "      <th>Price</th>\n",
       "      <th>SaleValidity</th>\n",
       "      <th>Sum801TLA</th>\n",
       "      <th>Raw Year</th>\n",
       "      <th>Relative year</th>\n",
       "    </tr>\n",
       "  </thead>\n",
       "  <tbody>\n",
       "    <tr>\n",
       "      <th>0</th>\n",
       "      <td>0</td>\n",
       "      <td>7HST242</td>\n",
       "      <td>09-13-434-003-000</td>\n",
       "      <td>2525   RIDGE RD</td>\n",
       "      <td>R1</td>\n",
       "      <td>1</td>\n",
       "      <td>4.0</td>\n",
       "      <td>6.0</td>\n",
       "      <td>NaN</td>\n",
       "      <td>NaN</td>\n",
       "      <td>...</td>\n",
       "      <td>NaN</td>\n",
       "      <td>1.30</td>\n",
       "      <td>I</td>\n",
       "      <td>2016017053</td>\n",
       "      <td>2016-05-05</td>\n",
       "      <td>2122450.0</td>\n",
       "      <td>1</td>\n",
       "      <td>12026</td>\n",
       "      <td>2016</td>\n",
       "      <td>0</td>\n",
       "    </tr>\n",
       "    <tr>\n",
       "      <th>1</th>\n",
       "      <td>1</td>\n",
       "      <td>7HSE361</td>\n",
       "      <td>16-11-404-012-000</td>\n",
       "      <td>5330 S 93RD PL</td>\n",
       "      <td>R1</td>\n",
       "      <td>1</td>\n",
       "      <td>4.0</td>\n",
       "      <td>6.0</td>\n",
       "      <td>NaN</td>\n",
       "      <td>NaN</td>\n",
       "      <td>...</td>\n",
       "      <td>NaN</td>\n",
       "      <td>0.78</td>\n",
       "      <td>I</td>\n",
       "      <td>2022024921</td>\n",
       "      <td>2022-06-02</td>\n",
       "      <td>1950000.0</td>\n",
       "      <td>1</td>\n",
       "      <td>11047</td>\n",
       "      <td>2022</td>\n",
       "      <td>6</td>\n",
       "    </tr>\n",
       "    <tr>\n",
       "      <th>2</th>\n",
       "      <td>2</td>\n",
       "      <td>7HSE361</td>\n",
       "      <td>16-11-404-013-000</td>\n",
       "      <td>5410 S 93RD PL</td>\n",
       "      <td>R1</td>\n",
       "      <td>1</td>\n",
       "      <td>4.0</td>\n",
       "      <td>5.0</td>\n",
       "      <td>NaN</td>\n",
       "      <td>NaN</td>\n",
       "      <td>...</td>\n",
       "      <td>NaN</td>\n",
       "      <td>0.73</td>\n",
       "      <td>I</td>\n",
       "      <td>2021068025</td>\n",
       "      <td>2021-11-11</td>\n",
       "      <td>1875000.0</td>\n",
       "      <td>1</td>\n",
       "      <td>8816</td>\n",
       "      <td>2021</td>\n",
       "      <td>5</td>\n",
       "    </tr>\n",
       "    <tr>\n",
       "      <th>3</th>\n",
       "      <td>3</td>\n",
       "      <td>7AEA310</td>\n",
       "      <td>23-31-416-001-000</td>\n",
       "      <td>11737   SEABISCUIT LN</td>\n",
       "      <td>R1</td>\n",
       "      <td>12</td>\n",
       "      <td>4.0</td>\n",
       "      <td>5.0</td>\n",
       "      <td>NaN</td>\n",
       "      <td>NaN</td>\n",
       "      <td>...</td>\n",
       "      <td>1933-05-06 00:00:00</td>\n",
       "      <td>3.03</td>\n",
       "      <td>I</td>\n",
       "      <td>2022028838</td>\n",
       "      <td>2022-06-25</td>\n",
       "      <td>1850000.0</td>\n",
       "      <td>1</td>\n",
       "      <td>6935</td>\n",
       "      <td>2022</td>\n",
       "      <td>6</td>\n",
       "    </tr>\n",
       "    <tr>\n",
       "      <th>4</th>\n",
       "      <td>4</td>\n",
       "      <td>7HST242</td>\n",
       "      <td>09-13-402-005-000</td>\n",
       "      <td>2421   RIDGE RD</td>\n",
       "      <td>R1</td>\n",
       "      <td>1</td>\n",
       "      <td>5.0</td>\n",
       "      <td>5.0</td>\n",
       "      <td>2022.0</td>\n",
       "      <td>6.0</td>\n",
       "      <td>...</td>\n",
       "      <td>NaN</td>\n",
       "      <td>0.58</td>\n",
       "      <td>I</td>\n",
       "      <td>2022024045</td>\n",
       "      <td>2022-06-01</td>\n",
       "      <td>1800000.0</td>\n",
       "      <td>1</td>\n",
       "      <td>9936</td>\n",
       "      <td>2022</td>\n",
       "      <td>6</td>\n",
       "    </tr>\n",
       "  </tbody>\n",
       "</table>\n",
       "<p>5 rows × 38 columns</p>\n",
       "</div>"
      ],
      "text/plain": [
       "   Unnamed: 0     NBHD                PID                    Situs PrpCls  \\\n",
       "0           0  7HST242  09-13-434-003-000        2525   RIDGE RD       R1   \n",
       "1           1  7HSE361  16-11-404-012-000         5330 S 93RD PL       R1   \n",
       "2           2  7HSE361  16-11-404-013-000         5410 S 93RD PL       R1   \n",
       "3           3  7AEA310  23-31-416-001-000  11737   SEABISCUIT LN       R1   \n",
       "4           4  7HST242  09-13-402-005-000        2421   RIDGE RD       R1   \n",
       "\n",
       "   PrUse  CDU  Qual    YrRD  Remd  ...         HSALandValue  TotAcres  V/I  \\\n",
       "0      1  4.0   6.0     NaN   NaN  ...                  NaN      1.30    I   \n",
       "1      1  4.0   6.0     NaN   NaN  ...                  NaN      0.78    I   \n",
       "2      1  4.0   5.0     NaN   NaN  ...                  NaN      0.73    I   \n",
       "3     12  4.0   5.0     NaN   NaN  ...  1933-05-06 00:00:00      3.03    I   \n",
       "4      1  5.0   5.0  2022.0   6.0  ...                  NaN      0.58    I   \n",
       "\n",
       "        Inst#   SaleDate      Price  SaleValidity  Sum801TLA  Raw Year  \\\n",
       "0  2016017053 2016-05-05  2122450.0             1      12026      2016   \n",
       "1  2022024921 2022-06-02  1950000.0             1      11047      2022   \n",
       "2  2021068025 2021-11-11  1875000.0             1       8816      2021   \n",
       "3  2022028838 2022-06-25  1850000.0             1       6935      2022   \n",
       "4  2022024045 2022-06-01  1800000.0             1       9936      2022   \n",
       "\n",
       "   Relative year  \n",
       "0              0  \n",
       "1              6  \n",
       "2              5  \n",
       "3              6  \n",
       "4              6  \n",
       "\n",
       "[5 rows x 38 columns]"
      ]
     },
     "execution_count": 16,
     "metadata": {},
     "output_type": "execute_result"
    }
   ],
   "source": [
    "# new model\n",
    "df_new = pd.read_excel('other_files/valid_data_with_year.xlsx')\n",
    "df_new.head()\n"
   ]
  },
  {
   "cell_type": "code",
   "execution_count": 19,
   "metadata": {},
   "outputs": [],
   "source": [
    "df_new.drop(columns=\"Unnamed: 0\",inplace=True)"
   ]
  },
  {
   "cell_type": "code",
   "execution_count": 20,
   "metadata": {},
   "outputs": [
    {
     "data": {
      "text/plain": [
       "Index(['NBHD', 'PID', 'Situs', 'PrpCls', 'PrUse', 'CDU', 'Qual', 'YrRD',\n",
       "       'Remd', 'Imp', 'TLA', 'YrBlt', 'GarCap', 'Bedrm', 'FND', '801Units',\n",
       "       '802Units', '803Units', 'FP', 'FixCt', 'Pool', 'LandType', 'Acres',\n",
       "       'LandValue', 'Infl1', 'Infl2', 'HSA_Acres', 'HSALandValue', 'TotAcres',\n",
       "       'V/I', 'Inst#', 'SaleDate', 'Price', 'SaleValidity', 'Sum801TLA',\n",
       "       'Raw Year', 'Relative year'],\n",
       "      dtype='object')"
      ]
     },
     "execution_count": 20,
     "metadata": {},
     "output_type": "execute_result"
    }
   ],
   "source": [
    "df_new.columns"
   ]
  },
  {
   "cell_type": "code",
   "execution_count": 21,
   "metadata": {},
   "outputs": [
    {
     "data": {
      "text/plain": [
       "PrUse            0.195567\n",
       "CDU              0.120910\n",
       "Qual             0.575430\n",
       "YrRD            -0.005322\n",
       "Remd             0.020230\n",
       "TLA              0.689752\n",
       "YrBlt            0.476923\n",
       "GarCap           0.597921\n",
       "Bedrm            0.167392\n",
       "FND              0.349925\n",
       "801Units         0.728121\n",
       "802Units         0.185000\n",
       "803Units         0.689107\n",
       "FP               0.309291\n",
       "FixCt            0.727844\n",
       "Pool             0.398349\n",
       "Acres            0.032477\n",
       "LandValue        0.798683\n",
       "Infl1            0.005623\n",
       "Infl2            0.131819\n",
       "HSA_Acres        0.061069\n",
       "TotAcres         0.263807\n",
       "Inst#            0.265492\n",
       "Price            1.000000\n",
       "SaleValidity    -0.000904\n",
       "Sum801TLA        0.786005\n",
       "Raw Year         0.265928\n",
       "Relative year    0.265928\n",
       "Name: Price, dtype: float64"
      ]
     },
     "execution_count": 21,
     "metadata": {},
     "output_type": "execute_result"
    }
   ],
   "source": [
    "df_new.corr()['Price']"
   ]
  },
  {
   "cell_type": "code",
   "execution_count": 24,
   "metadata": {},
   "outputs": [],
   "source": [
    "useful_df = df_new[['Sum801TLA','LandValue','Qual','FixCt','GarCap','TLA','FND','Relative year','Price']]"
   ]
  },
  {
   "cell_type": "code",
   "execution_count": 25,
   "metadata": {},
   "outputs": [
    {
     "name": "stderr",
     "output_type": "stream",
     "text": [
      "<ipython-input-25-864e3b5e881f>:1: SettingWithCopyWarning: \n",
      "A value is trying to be set on a copy of a slice from a DataFrame\n",
      "\n",
      "See the caveats in the documentation: https://pandas.pydata.org/pandas-docs/stable/user_guide/indexing.html#returning-a-view-versus-a-copy\n",
      "  useful_df.dropna(how='any',inplace=True)\n"
     ]
    }
   ],
   "source": [
    "useful_df.dropna(how='any',inplace=True)"
   ]
  },
  {
   "cell_type": "code",
   "execution_count": 26,
   "metadata": {},
   "outputs": [
    {
     "name": "stdout",
     "output_type": "stream",
     "text": [
      "<class 'pandas.core.frame.DataFrame'>\n",
      "Int64Index: 31196 entries, 0 to 34124\n",
      "Data columns (total 9 columns):\n",
      " #   Column         Non-Null Count  Dtype  \n",
      "---  ------         --------------  -----  \n",
      " 0   Sum801TLA      31196 non-null  int64  \n",
      " 1   LandValue      31196 non-null  int64  \n",
      " 2   Qual           31196 non-null  float64\n",
      " 3   FixCt          31196 non-null  float64\n",
      " 4   GarCap         31196 non-null  float64\n",
      " 5   TLA            31196 non-null  float64\n",
      " 6   FND            31196 non-null  float64\n",
      " 7   Relative year  31196 non-null  int64  \n",
      " 8   Price          31196 non-null  float64\n",
      "dtypes: float64(6), int64(3)\n",
      "memory usage: 2.4 MB\n"
     ]
    }
   ],
   "source": [
    "useful_df.info()"
   ]
  },
  {
   "cell_type": "code",
   "execution_count": 62,
   "metadata": {},
   "outputs": [],
   "source": [
    "X = useful_df[useful_df.columns[:-1]]\n",
    "Y = useful_df[useful_df.columns[-1]]\n",
    "# Y = np.reshape(list(Y),(-1,1))\n",
    "x_train,x_test,y_train,y_test = train_test_split(X,Y,test_size =0.2)"
   ]
  },
  {
   "cell_type": "code",
   "execution_count": 28,
   "metadata": {},
   "outputs": [],
   "source": [
    "model = LinearRegression().fit(x_train,y_train)\n",
    "predictions = model.predict(x_test)"
   ]
  },
  {
   "cell_type": "code",
   "execution_count": 29,
   "metadata": {},
   "outputs": [
    {
     "name": "stderr",
     "output_type": "stream",
     "text": [
      "<ipython-input-29-2e634147cba2>:2: RuntimeWarning: divide by zero encountered in double_scalars\n",
      "  ratios = [predictions[i]/y_test[i] for i in range(len(predictions))]\n"
     ]
    }
   ],
   "source": [
    "y_test = list(y_test)\n",
    "ratios = [predictions[i]/y_test[i] for i in range(len(predictions))]\n",
    "ratios = list(filter(lambda x:x!=float('inf'),ratios))"
   ]
  },
  {
   "cell_type": "code",
   "execution_count": 30,
   "metadata": {},
   "outputs": [
    {
     "data": {
      "text/plain": [
       "1.0129658683556984"
      ]
     },
     "execution_count": 30,
     "metadata": {},
     "output_type": "execute_result"
    }
   ],
   "source": [
    "np.mean(ratios)"
   ]
  },
  {
   "cell_type": "code",
   "execution_count": 34,
   "metadata": {},
   "outputs": [
    {
     "data": {
      "image/png": "[encoded data removed]",
      "text/plain": [
       "<Figure size 1080x576 with 1 Axes>"
      ]
     },
     "metadata": {},
     "output_type": "display_data"
    }
   ],
   "source": [
    "plt.figure(figsize=(15,8))\n",
    "plt.hist(ratios,bins=20,edgecolor='black',label=f'std = {np.std(ratios)}')\n",
    "plt.xlabel('ratio')\n",
    "plt.ylabel('frequency')\n",
    "plt.legend()\n",
    "plt.savefig('distribution_with_year')\n",
    "plt.show()"
   ]
  },
  {
   "cell_type": "code",
   "execution_count": 35,
   "metadata": {},
   "outputs": [
    {
     "data": {
      "image/png": "[encoded data removed]",
      "text/plain": [
       "<Figure size 1080x576 with 1 Axes>"
      ]
     },
     "metadata": {},
     "output_type": "display_data"
    }
   ],
   "source": [
    "plt.figure(figsize=(15,8))\n",
    "plt.scatter(range(len(ratios))[:1500],ratios[:1500],label=f'mean = {np.mean(ratios)}')\n",
    "plt.xlabel('house index')\n",
    "plt.ylabel('ratio')\n",
    "plt.legend()\n",
    "plt.savefig('ratio plot with year')\n",
    "plt.show()"
   ]
  },
  {
   "cell_type": "code",
   "execution_count": 33,
   "metadata": {},
   "outputs": [
    {
     "data": {
      "text/plain": [
       "0.8326501293333974"
      ]
     },
     "execution_count": 33,
     "metadata": {},
     "output_type": "execute_result"
    }
   ],
   "source": [
    "r2_score(y_test,predictions)"
   ]
  },
  {
   "cell_type": "code",
   "execution_count": 42,
   "metadata": {},
   "outputs": [
    {
     "data": {
      "image/png": "[encoded data removed]",
      "text/plain": [
       "<Figure size 1080x576 with 1 Axes>"
      ]
     },
     "metadata": {},
     "output_type": "display_data"
    }
   ],
   "source": [
    "plt.figure(figsize=(15,8))\n",
    "plt.boxplot(df['Price'])\n",
    "plt.show()"
   ]
  },
  {
   "cell_type": "code",
   "execution_count": 41,
   "metadata": {},
   "outputs": [
    {
     "data": {
      "text/plain": [
       "215000.0"
      ]
     },
     "execution_count": 41,
     "metadata": {},
     "output_type": "execute_result"
    }
   ],
   "source": [
    "df['Price'].median()"
   ]
  },
  {
   "cell_type": "code",
   "execution_count": 59,
   "metadata": {},
   "outputs": [],
   "source": [
    "def n_outliers(data):\n",
    "    first_quartile = np.percentile(data,25)\n",
    "    third_quartile = np.percentile(data,75)\n",
    "    IQR = third_quartile - first_quartile\n",
    "    upper_limit = third_quartile + 2*IQR\n",
    "    lower_limit = first_quartile - 2*IQR\n",
    "    count = 0\n",
    "    for point in data:\n",
    "        if point < lower_limit or point > upper_limit:\n",
    "            count += 1\n",
    "\n",
    "    return count"
   ]
  },
  {
   "cell_type": "code",
   "execution_count": 60,
   "metadata": {},
   "outputs": [
    {
     "name": "stdout",
     "output_type": "stream",
     "text": [
      "Sum801TLA 290\n",
      "LandValue 635\n",
      "Qual 6320\n",
      "FixCt 269\n",
      "GarCap 14544\n",
      "TLA 562\n",
      "FND 0\n",
      "Relative year 0\n",
      "Price 723\n"
     ]
    }
   ],
   "source": [
    "for column in useful_df.columns:\n",
    "    print(f'{column} {n_outliers(useful_df[column])}')"
   ]
  },
  {
   "cell_type": "code",
   "execution_count": null,
   "metadata": {},
   "outputs": [],
   "source": []
  }
 ],
 "metadata": {
  "kernelspec": {
   "display_name": "Python 3.9.4 64-bit",
   "language": "python",
   "name": "python3"
  },
  "language_info": {
   "codemirror_mode": {
    "name": "ipython",
    "version": 3
   },
   "file_extension": ".py",
   "mimetype": "text/x-python",
   "name": "python",
   "nbconvert_exporter": "python",
   "pygments_lexer": "ipython3",
   "version": "3.9.4"
  },
  "orig_nbformat": 4,
  "vscode": {
   "interpreter": {
    "hash": "157570db7612c75920024a12f929726d05ab55e81c8d1bb30660f905a6f4d21f"
   }
  }
 },
 "nbformat": 4,
 "nbformat_minor": 2
}
