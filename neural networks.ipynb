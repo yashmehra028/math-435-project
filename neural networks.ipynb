{
 "cells": [
  {
   "cell_type": "code",
   "execution_count": 1,
   "metadata": {},
   "outputs": [],
   "source": [
    "import pandas as pd\n",
    "from geopy.geocoders import Nominatim\n",
    "import numpy as np\n",
    "import re\n",
    "import matplotlib.pyplot as plt\n",
    "from matplotlib import style\n",
    "style.use('seaborn-white')\n",
    "from sklearn.model_selection import train_test_split\n",
    "from sklearn.linear_model import LinearRegression\n",
    "from sklearn.metrics import r2_score\n",
    "import tensorflow as tf \n",
    "from tensorflow import keras"
   ]
  },
  {
   "cell_type": "code",
   "execution_count": 2,
   "metadata": {},
   "outputs": [],
   "source": [
    "# put your local path in here\n",
    "df = pd.read_excel(r\"C:\\Users\\ymehr\\Downloads\\ValidData-MitC2022data - SalesPopulation.xlsx\",sheet_name='filtered')"
   ]
  },
  {
   "cell_type": "code",
   "execution_count": 2,
   "metadata": {},
   "outputs": [],
   "source": [
    "valid_df = pd.read_excel('other_files/valid_data_with_year.xlsx')"
   ]
  },
  {
   "cell_type": "code",
   "execution_count": 3,
   "metadata": {},
   "outputs": [
    {
     "data": {
      "text/html": [
       "<div>\n",
       "<style scoped>\n",
       "    .dataframe tbody tr th:only-of-type {\n",
       "        vertical-align: middle;\n",
       "    }\n",
       "\n",
       "    .dataframe tbody tr th {\n",
       "        vertical-align: top;\n",
       "    }\n",
       "\n",
       "    .dataframe thead th {\n",
       "        text-align: right;\n",
       "    }\n",
       "</style>\n",
       "<table border=\"1\" class=\"dataframe\">\n",
       "  <thead>\n",
       "    <tr style=\"text-align: right;\">\n",
       "      <th></th>\n",
       "      <th>Unnamed: 0</th>\n",
       "      <th>NBHD</th>\n",
       "      <th>PID</th>\n",
       "      <th>Situs</th>\n",
       "      <th>PrpCls</th>\n",
       "      <th>PrUse</th>\n",
       "      <th>CDU</th>\n",
       "      <th>Qual</th>\n",
       "      <th>YrRD</th>\n",
       "      <th>Remd</th>\n",
       "      <th>...</th>\n",
       "      <th>HSALandValue</th>\n",
       "      <th>TotAcres</th>\n",
       "      <th>V/I</th>\n",
       "      <th>Inst#</th>\n",
       "      <th>SaleDate</th>\n",
       "      <th>Price</th>\n",
       "      <th>SaleValidity</th>\n",
       "      <th>Sum801TLA</th>\n",
       "      <th>Raw Year</th>\n",
       "      <th>Relative year</th>\n",
       "    </tr>\n",
       "  </thead>\n",
       "  <tbody>\n",
       "    <tr>\n",
       "      <th>0</th>\n",
       "      <td>0</td>\n",
       "      <td>7HST242</td>\n",
       "      <td>09-13-434-003-000</td>\n",
       "      <td>2525   RIDGE RD</td>\n",
       "      <td>R1</td>\n",
       "      <td>1</td>\n",
       "      <td>4.0</td>\n",
       "      <td>6.0</td>\n",
       "      <td>NaN</td>\n",
       "      <td>NaN</td>\n",
       "      <td>...</td>\n",
       "      <td>NaN</td>\n",
       "      <td>1.30</td>\n",
       "      <td>I</td>\n",
       "      <td>2016017053</td>\n",
       "      <td>2016-05-05</td>\n",
       "      <td>2122450.0</td>\n",
       "      <td>1</td>\n",
       "      <td>12026</td>\n",
       "      <td>2016</td>\n",
       "      <td>0</td>\n",
       "    </tr>\n",
       "    <tr>\n",
       "      <th>1</th>\n",
       "      <td>1</td>\n",
       "      <td>7HSE361</td>\n",
       "      <td>16-11-404-012-000</td>\n",
       "      <td>5330 S 93RD PL</td>\n",
       "      <td>R1</td>\n",
       "      <td>1</td>\n",
       "      <td>4.0</td>\n",
       "      <td>6.0</td>\n",
       "      <td>NaN</td>\n",
       "      <td>NaN</td>\n",
       "      <td>...</td>\n",
       "      <td>NaN</td>\n",
       "      <td>0.78</td>\n",
       "      <td>I</td>\n",
       "      <td>2022024921</td>\n",
       "      <td>2022-06-02</td>\n",
       "      <td>1950000.0</td>\n",
       "      <td>1</td>\n",
       "      <td>11047</td>\n",
       "      <td>2022</td>\n",
       "      <td>6</td>\n",
       "    </tr>\n",
       "    <tr>\n",
       "      <th>2</th>\n",
       "      <td>2</td>\n",
       "      <td>7HSE361</td>\n",
       "      <td>16-11-404-013-000</td>\n",
       "      <td>5410 S 93RD PL</td>\n",
       "      <td>R1</td>\n",
       "      <td>1</td>\n",
       "      <td>4.0</td>\n",
       "      <td>5.0</td>\n",
       "      <td>NaN</td>\n",
       "      <td>NaN</td>\n",
       "      <td>...</td>\n",
       "      <td>NaN</td>\n",
       "      <td>0.73</td>\n",
       "      <td>I</td>\n",
       "      <td>2021068025</td>\n",
       "      <td>2021-11-11</td>\n",
       "      <td>1875000.0</td>\n",
       "      <td>1</td>\n",
       "      <td>8816</td>\n",
       "      <td>2021</td>\n",
       "      <td>5</td>\n",
       "    </tr>\n",
       "    <tr>\n",
       "      <th>3</th>\n",
       "      <td>3</td>\n",
       "      <td>7AEA310</td>\n",
       "      <td>23-31-416-001-000</td>\n",
       "      <td>11737   SEABISCUIT LN</td>\n",
       "      <td>R1</td>\n",
       "      <td>12</td>\n",
       "      <td>4.0</td>\n",
       "      <td>5.0</td>\n",
       "      <td>NaN</td>\n",
       "      <td>NaN</td>\n",
       "      <td>...</td>\n",
       "      <td>1933-05-06 00:00:00</td>\n",
       "      <td>3.03</td>\n",
       "      <td>I</td>\n",
       "      <td>2022028838</td>\n",
       "      <td>2022-06-25</td>\n",
       "      <td>1850000.0</td>\n",
       "      <td>1</td>\n",
       "      <td>6935</td>\n",
       "      <td>2022</td>\n",
       "      <td>6</td>\n",
       "    </tr>\n",
       "    <tr>\n",
       "      <th>4</th>\n",
       "      <td>4</td>\n",
       "      <td>7HST242</td>\n",
       "      <td>09-13-402-005-000</td>\n",
       "      <td>2421   RIDGE RD</td>\n",
       "      <td>R1</td>\n",
       "      <td>1</td>\n",
       "      <td>5.0</td>\n",
       "      <td>5.0</td>\n",
       "      <td>2022.0</td>\n",
       "      <td>6.0</td>\n",
       "      <td>...</td>\n",
       "      <td>NaN</td>\n",
       "      <td>0.58</td>\n",
       "      <td>I</td>\n",
       "      <td>2022024045</td>\n",
       "      <td>2022-06-01</td>\n",
       "      <td>1800000.0</td>\n",
       "      <td>1</td>\n",
       "      <td>9936</td>\n",
       "      <td>2022</td>\n",
       "      <td>6</td>\n",
       "    </tr>\n",
       "  </tbody>\n",
       "</table>\n",
       "<p>5 rows × 38 columns</p>\n",
       "</div>"
      ],
      "text/plain": [
       "   Unnamed: 0     NBHD                PID                    Situs PrpCls  \\\n",
       "0           0  7HST242  09-13-434-003-000        2525   RIDGE RD       R1   \n",
       "1           1  7HSE361  16-11-404-012-000         5330 S 93RD PL       R1   \n",
       "2           2  7HSE361  16-11-404-013-000         5410 S 93RD PL       R1   \n",
       "3           3  7AEA310  23-31-416-001-000  11737   SEABISCUIT LN       R1   \n",
       "4           4  7HST242  09-13-402-005-000        2421   RIDGE RD       R1   \n",
       "\n",
       "   PrUse  CDU  Qual    YrRD  Remd  ...         HSALandValue  TotAcres  V/I  \\\n",
       "0      1  4.0   6.0     NaN   NaN  ...                  NaN      1.30    I   \n",
       "1      1  4.0   6.0     NaN   NaN  ...                  NaN      0.78    I   \n",
       "2      1  4.0   5.0     NaN   NaN  ...                  NaN      0.73    I   \n",
       "3     12  4.0   5.0     NaN   NaN  ...  1933-05-06 00:00:00      3.03    I   \n",
       "4      1  5.0   5.0  2022.0   6.0  ...                  NaN      0.58    I   \n",
       "\n",
       "        Inst#   SaleDate      Price  SaleValidity  Sum801TLA  Raw Year  \\\n",
       "0  2016017053 2016-05-05  2122450.0             1      12026      2016   \n",
       "1  2022024921 2022-06-02  1950000.0             1      11047      2022   \n",
       "2  2021068025 2021-11-11  1875000.0             1       8816      2021   \n",
       "3  2022028838 2022-06-25  1850000.0             1       6935      2022   \n",
       "4  2022024045 2022-06-01  1800000.0             1       9936      2022   \n",
       "\n",
       "   Relative year  \n",
       "0              0  \n",
       "1              6  \n",
       "2              5  \n",
       "3              6  \n",
       "4              6  \n",
       "\n",
       "[5 rows x 38 columns]"
      ]
     },
     "execution_count": 3,
     "metadata": {},
     "output_type": "execute_result"
    }
   ],
   "source": [
    "valid_df.head()"
   ]
  },
  {
   "cell_type": "code",
   "execution_count": 4,
   "metadata": {},
   "outputs": [
    {
     "name": "stdout",
     "output_type": "stream",
     "text": [
      "<class 'pandas.core.frame.DataFrame'>\n",
      "RangeIndex: 34125 entries, 0 to 34124\n",
      "Data columns (total 38 columns):\n",
      " #   Column         Non-Null Count  Dtype         \n",
      "---  ------         --------------  -----         \n",
      " 0   Unnamed: 0     34125 non-null  int64         \n",
      " 1   NBHD           34125 non-null  object        \n",
      " 2   PID            34125 non-null  object        \n",
      " 3   Situs          34125 non-null  object        \n",
      " 4   PrpCls         34125 non-null  object        \n",
      " 5   PrUse          34125 non-null  int64         \n",
      " 6   CDU            34116 non-null  float64       \n",
      " 7   Qual           34116 non-null  float64       \n",
      " 8   YrRD           3698 non-null   float64       \n",
      " 9   Remd           3790 non-null   float64       \n",
      " 10  Imp            34116 non-null  object        \n",
      " 11  TLA            34123 non-null  float64       \n",
      " 12  YrBlt          34116 non-null  float64       \n",
      " 13  GarCap         31197 non-null  float64       \n",
      " 14  Bedrm          34115 non-null  float64       \n",
      " 15  FND            34111 non-null  float64       \n",
      " 16  801Units       29842 non-null  float64       \n",
      " 17  802Units       3786 non-null   float64       \n",
      " 18  803Units       22494 non-null  float64       \n",
      " 19  FP             14955 non-null  float64       \n",
      " 20  FixCt          34118 non-null  float64       \n",
      " 21  Pool           304 non-null    float64       \n",
      " 22  LandType       34125 non-null  object        \n",
      " 23  Acres          1176 non-null   float64       \n",
      " 24  LandValue      34125 non-null  int64         \n",
      " 25  Infl1          9439 non-null   float64       \n",
      " 26  Infl2          2271 non-null   float64       \n",
      " 27  HSA_Acres      928 non-null    float64       \n",
      " 28  HSALandValue   927 non-null    object        \n",
      " 29  TotAcres       33395 non-null  float64       \n",
      " 30  V/I            34120 non-null  object        \n",
      " 31  Inst#          34125 non-null  int64         \n",
      " 32  SaleDate       34125 non-null  datetime64[ns]\n",
      " 33  Price          34125 non-null  float64       \n",
      " 34  SaleValidity   34125 non-null  int64         \n",
      " 35  Sum801TLA      34125 non-null  int64         \n",
      " 36  Raw Year       34125 non-null  int64         \n",
      " 37  Relative year  34125 non-null  int64         \n",
      "dtypes: datetime64[ns](1), float64(21), int64(8), object(8)\n",
      "memory usage: 9.9+ MB\n"
     ]
    }
   ],
   "source": [
    "valid_df.info()"
   ]
  },
  {
   "cell_type": "code",
   "execution_count": 19,
   "metadata": {},
   "outputs": [
    {
     "name": "stdout",
     "output_type": "stream",
     "text": [
      "<class 'pandas.core.frame.DataFrame'>\n",
      "RangeIndex: 34125 entries, 0 to 34124\n",
      "Data columns (total 29 columns):\n",
      " #   Column         Non-Null Count  Dtype  \n",
      "---  ------         --------------  -----  \n",
      " 0   Unnamed: 0     34125 non-null  int64  \n",
      " 1   PrUse          34125 non-null  int64  \n",
      " 2   CDU            34116 non-null  float64\n",
      " 3   Qual           34116 non-null  float64\n",
      " 4   YrRD           3698 non-null   float64\n",
      " 5   Remd           3790 non-null   float64\n",
      " 6   TLA            34123 non-null  float64\n",
      " 7   YrBlt          34116 non-null  float64\n",
      " 8   GarCap         31197 non-null  float64\n",
      " 9   Bedrm          34115 non-null  float64\n",
      " 10  FND            34111 non-null  float64\n",
      " 11  801Units       29842 non-null  float64\n",
      " 12  802Units       3786 non-null   float64\n",
      " 13  803Units       22494 non-null  float64\n",
      " 14  FP             14955 non-null  float64\n",
      " 15  FixCt          34118 non-null  float64\n",
      " 16  Pool           304 non-null    float64\n",
      " 17  Acres          1176 non-null   float64\n",
      " 18  LandValue      34125 non-null  int64  \n",
      " 19  Infl1          9439 non-null   float64\n",
      " 20  Infl2          2271 non-null   float64\n",
      " 21  HSA_Acres      928 non-null    float64\n",
      " 22  TotAcres       33395 non-null  float64\n",
      " 23  Inst#          34125 non-null  int64  \n",
      " 24  Price          34125 non-null  float64\n",
      " 25  SaleValidity   34125 non-null  int64  \n",
      " 26  Sum801TLA      34125 non-null  int64  \n",
      " 27  Raw Year       34125 non-null  int64  \n",
      " 28  Relative year  34125 non-null  int64  \n",
      "dtypes: float64(21), int64(8)\n",
      "memory usage: 7.6 MB\n"
     ]
    }
   ],
   "source": [
    "num_df = valid_df.select_dtypes(include=np.number)\n",
    "num_df.info()"
   ]
  },
  {
   "cell_type": "code",
   "execution_count": 22,
   "metadata": {},
   "outputs": [
    {
     "data": {
      "text/plain": [
       "33821"
      ]
     },
     "execution_count": 22,
     "metadata": {},
     "output_type": "execute_result"
    }
   ],
   "source": [
    "num_df['Pool'].isna().sum()"
   ]
  },
  {
   "cell_type": "code",
   "execution_count": 26,
   "metadata": {},
   "outputs": [
    {
     "name": "stdout",
     "output_type": "stream",
     "text": [
      "<class 'pandas.core.frame.DataFrame'>\n",
      "RangeIndex: 34125 entries, 0 to 34124\n",
      "Data columns (total 19 columns):\n",
      " #   Column         Non-Null Count  Dtype  \n",
      "---  ------         --------------  -----  \n",
      " 0   Unnamed: 0     34125 non-null  int64  \n",
      " 1   PrUse          34125 non-null  int64  \n",
      " 2   CDU            34116 non-null  float64\n",
      " 3   Qual           34116 non-null  float64\n",
      " 4   TLA            34123 non-null  float64\n",
      " 5   YrBlt          34116 non-null  float64\n",
      " 6   GarCap         31197 non-null  float64\n",
      " 7   Bedrm          34115 non-null  float64\n",
      " 8   FND            34111 non-null  float64\n",
      " 9   801Units       29842 non-null  float64\n",
      " 10  FixCt          34118 non-null  float64\n",
      " 11  LandValue      34125 non-null  int64  \n",
      " 12  TotAcres       33395 non-null  float64\n",
      " 13  Inst#          34125 non-null  int64  \n",
      " 14  Price          34125 non-null  float64\n",
      " 15  SaleValidity   34125 non-null  int64  \n",
      " 16  Sum801TLA      34125 non-null  int64  \n",
      " 17  Raw Year       34125 non-null  int64  \n",
      " 18  Relative year  34125 non-null  int64  \n",
      "dtypes: float64(11), int64(8)\n",
      "memory usage: 4.9 MB\n"
     ]
    }
   ],
   "source": [
    "useful_df = num_df[[col for col in num_df.columns if num_df[col].isna().sum() < 10000]]\n",
    "useful_df.info()"
   ]
  },
  {
   "cell_type": "code",
   "execution_count": 27,
   "metadata": {},
   "outputs": [
    {
     "name": "stdout",
     "output_type": "stream",
     "text": [
      "<class 'pandas.core.frame.DataFrame'>\n",
      "Int64Index: 28043 entries, 0 to 34124\n",
      "Data columns (total 19 columns):\n",
      " #   Column         Non-Null Count  Dtype  \n",
      "---  ------         --------------  -----  \n",
      " 0   Unnamed: 0     28043 non-null  int64  \n",
      " 1   PrUse          28043 non-null  int64  \n",
      " 2   CDU            28043 non-null  float64\n",
      " 3   Qual           28043 non-null  float64\n",
      " 4   TLA            28043 non-null  float64\n",
      " 5   YrBlt          28043 non-null  float64\n",
      " 6   GarCap         28043 non-null  float64\n",
      " 7   Bedrm          28043 non-null  float64\n",
      " 8   FND            28043 non-null  float64\n",
      " 9   801Units       28043 non-null  float64\n",
      " 10  FixCt          28043 non-null  float64\n",
      " 11  LandValue      28043 non-null  int64  \n",
      " 12  TotAcres       28043 non-null  float64\n",
      " 13  Inst#          28043 non-null  int64  \n",
      " 14  Price          28043 non-null  float64\n",
      " 15  SaleValidity   28043 non-null  int64  \n",
      " 16  Sum801TLA      28043 non-null  int64  \n",
      " 17  Raw Year       28043 non-null  int64  \n",
      " 18  Relative year  28043 non-null  int64  \n",
      "dtypes: float64(11), int64(8)\n",
      "memory usage: 4.3 MB\n"
     ]
    },
    {
     "name": "stderr",
     "output_type": "stream",
     "text": [
      "<ipython-input-27-db96c5c00aea>:1: SettingWithCopyWarning: \n",
      "A value is trying to be set on a copy of a slice from a DataFrame\n",
      "\n",
      "See the caveats in the documentation: https://pandas.pydata.org/pandas-docs/stable/user_guide/indexing.html#returning-a-view-versus-a-copy\n",
      "  useful_df.dropna(how='any', inplace=True)\n"
     ]
    }
   ],
   "source": [
    "useful_df.dropna(how='any', inplace=True)\n",
    "useful_df.info()"
   ]
  },
  {
   "cell_type": "code",
   "execution_count": 29,
   "metadata": {},
   "outputs": [
    {
     "name": "stderr",
     "output_type": "stream",
     "text": [
      "c:\\Users\\ymehr\\AppData\\Local\\Programs\\Python\\Python39\\lib\\site-packages\\pandas\\core\\frame.py:4308: SettingWithCopyWarning: \n",
      "A value is trying to be set on a copy of a slice from a DataFrame\n",
      "\n",
      "See the caveats in the documentation: https://pandas.pydata.org/pandas-docs/stable/user_guide/indexing.html#returning-a-view-versus-a-copy\n",
      "  return super().drop(\n"
     ]
    }
   ],
   "source": [
    "useful_df.drop(columns=['Unnamed: 0','Raw Year'], inplace=True)"
   ]
  },
  {
   "cell_type": "code",
   "execution_count": 30,
   "metadata": {},
   "outputs": [
    {
     "name": "stdout",
     "output_type": "stream",
     "text": [
      "<class 'pandas.core.frame.DataFrame'>\n",
      "Int64Index: 28043 entries, 0 to 34124\n",
      "Data columns (total 17 columns):\n",
      " #   Column         Non-Null Count  Dtype  \n",
      "---  ------         --------------  -----  \n",
      " 0   PrUse          28043 non-null  int64  \n",
      " 1   CDU            28043 non-null  float64\n",
      " 2   Qual           28043 non-null  float64\n",
      " 3   TLA            28043 non-null  float64\n",
      " 4   YrBlt          28043 non-null  float64\n",
      " 5   GarCap         28043 non-null  float64\n",
      " 6   Bedrm          28043 non-null  float64\n",
      " 7   FND            28043 non-null  float64\n",
      " 8   801Units       28043 non-null  float64\n",
      " 9   FixCt          28043 non-null  float64\n",
      " 10  LandValue      28043 non-null  int64  \n",
      " 11  TotAcres       28043 non-null  float64\n",
      " 12  Inst#          28043 non-null  int64  \n",
      " 13  Price          28043 non-null  float64\n",
      " 14  SaleValidity   28043 non-null  int64  \n",
      " 15  Sum801TLA      28043 non-null  int64  \n",
      " 16  Relative year  28043 non-null  int64  \n",
      "dtypes: float64(11), int64(6)\n",
      "memory usage: 3.9 MB\n"
     ]
    }
   ],
   "source": [
    "useful_df.info()"
   ]
  },
  {
   "cell_type": "code",
   "execution_count": 33,
   "metadata": {},
   "outputs": [],
   "source": [
    "X = useful_df[[col for col in useful_df.columns if col != 'Price']]\n",
    "Y = useful_df[\"Price\"]\n",
    "# Y = np.reshape(list(Y),(-1,1))\n",
    "x_train,x_test,y_train,y_test = train_test_split(X,Y,test_size=0.25)"
   ]
  },
  {
   "cell_type": "code",
   "execution_count": 59,
   "metadata": {},
   "outputs": [
    {
     "name": "stdout",
     "output_type": "stream",
     "text": [
      "Epoch 1/10\n",
      "658/658 [==============================] - 2s 2ms/step - loss: 56720160194560.0000 - accuracy: 0.0000e+00\n",
      "Epoch 2/10\n",
      "658/658 [==============================] - 2s 3ms/step - loss: 21036861440.0000 - accuracy: 0.0000e+00\n",
      "Epoch 3/10\n",
      "658/658 [==============================] - 2s 2ms/step - loss: 34035623936.0000 - accuracy: 0.0000e+00\n",
      "Epoch 4/10\n",
      "658/658 [==============================] - 2s 2ms/step - loss: 10140445048832.0000 - accuracy: 0.0000e+00\n",
      "Epoch 5/10\n",
      "658/658 [==============================] - 2s 2ms/step - loss: 43401003008.0000 - accuracy: 0.0000e+00\n",
      "Epoch 6/10\n",
      "658/658 [==============================] - 1s 2ms/step - loss: 209987174400.0000 - accuracy: 0.0000e+00\n",
      "Epoch 7/10\n",
      "658/658 [==============================] - 2s 2ms/step - loss: 261297995776.0000 - accuracy: 0.0000e+00\n",
      "Epoch 8/10\n",
      "658/658 [==============================] - 2s 2ms/step - loss: 214591176704.0000 - accuracy: 4.7547e-05\n",
      "Epoch 9/10\n",
      "658/658 [==============================] - 2s 3ms/step - loss: 199754137600.0000 - accuracy: 4.7547e-05\n",
      "Epoch 10/10\n",
      "658/658 [==============================] - 2s 2ms/step - loss: 104858222592.0000 - accuracy: 0.0000e+00\n"
     ]
    },
    {
     "data": {
      "text/plain": [
       "<keras.callbacks.History at 0x1a64d62d8e0>"
      ]
     },
     "execution_count": 59,
     "metadata": {},
     "output_type": "execute_result"
    }
   ],
   "source": [
    "model = keras.Sequential([\n",
    "    keras.layers.Dense(128, input_shape=[len(X.columns)], activation='relu'),\n",
    "    keras.layers.Dense(128, activation='relu'),\n",
    "    keras.layers.Dense(128, activation='relu'),\n",
    "    keras.layers.Dense(128, activation='relu'),\n",
    "    keras.layers.Dense(1, activation='linear')\n",
    "    ])\n",
    "\n",
    "model.compile(optimizer='adam',loss='mean_squared_error',metrics=['accuracy'])\n",
    "\n",
    "model.fit(x_train,y_train,epochs=10)"
   ]
  },
  {
   "cell_type": "code",
   "execution_count": 47,
   "metadata": {},
   "outputs": [
    {
     "name": "stdout",
     "output_type": "stream",
     "text": [
      "220/220 [==============================] - 1s 2ms/step - loss: 16794276864.0000 - accuracy: 0.0000e+00\n"
     ]
    },
    {
     "data": {
      "text/plain": [
       "[16794276864.0, 0.0]"
      ]
     },
     "execution_count": 47,
     "metadata": {},
     "output_type": "execute_result"
    }
   ],
   "source": [
    "model.evaluate(x_test,y_test)"
   ]
  }
 ],
 "metadata": {
  "kernelspec": {
   "display_name": "Python 3.9.4 64-bit",
   "language": "python",
   "name": "python3"
  },
  "language_info": {
   "codemirror_mode": {
    "name": "ipython",
    "version": 3
   },
   "file_extension": ".py",
   "mimetype": "text/x-python",
   "name": "python",
   "nbconvert_exporter": "python",
   "pygments_lexer": "ipython3",
   "version": "3.9.4"
  },
  "orig_nbformat": 4,
  "vscode": {
   "interpreter": {
    "hash": "157570db7612c75920024a12f929726d05ab55e81c8d1bb30660f905a6f4d21f"
   }
  }
 },
 "nbformat": 4,
 "nbformat_minor": 2
}
